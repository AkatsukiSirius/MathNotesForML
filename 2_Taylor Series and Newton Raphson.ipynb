{
 "cells": [
  {
   "cell_type": "markdown",
   "metadata": {},
   "source": [
    "# 0. Introduction\n",
    "\n",
    "## Taylor Series\n",
    "\n",
    "### Calculate function value\n",
    "\n",
    "### Gini Coefficient\n",
    "\n",
    "### Square Root Caculation"
   ]
  },
  {
   "cell_type": "markdown",
   "metadata": {},
   "source": [
    "## Newton Method"
   ]
  },
  {
   "cell_type": "markdown",
   "metadata": {},
   "source": [
    "### Gradient Descent\n",
    "\n",
    "### Newton Raphson\n",
    "\n",
    "- DFP\n",
    "\n",
    "- BFGS"
   ]
  },
  {
   "cell_type": "markdown",
   "metadata": {},
   "source": [
    "# 1. Taylor Series - Maclaurin Formula"
   ]
  },
  {
   "cell_type": "markdown",
   "metadata": {},
   "source": [
    "## Taylor Series\n",
    "\n",
    "## $f(x)=f(x_0)+f'(x_0)(x-x_0)+\\frac{f''(x_0)}{2!}(x-x_0)^2+...+\\frac{f^n(x_0)}{n!}(x-x_0)^n+R_n(x)$"
   ]
  },
  {
   "cell_type": "markdown",
   "metadata": {},
   "source": [
    "## Maclaurin Formula ( $x_0=0$ )\n",
    "\n",
    "## $f(x) = f(0) + f'(0)x+\\frac{f''(0)}{2!}x^2+...+\\frac{f^n(0)}{n!}x^n+o(x^n)$"
   ]
  },
  {
   "cell_type": "markdown",
   "metadata": {},
   "source": [
    "### Example - Maclaurin\n",
    "\n",
    "## $\\sin x = x - \\frac{x^3}{3!}+\\frac{x^5}{5!}+...+(-1)^{m-1}\\frac{x^{2m-1}}{(2m-1)!}+R_{2m}$\n",
    "\n",
    "## $e^x = 1+x+\\frac{x^2}{2!}+...+\\frac{x^n}{n!}+R_{n}$"
   ]
  },
  {
   "cell_type": "markdown",
   "metadata": {},
   "source": [
    "### Taylor Series Application 1: Caculate $e^x$ "
   ]
  },
  {
   "cell_type": "markdown",
   "metadata": {},
   "source": [
    "### sol: Find integer k and decimal r, where\n",
    "\n",
    "### $x = k \\ln2 + r\\space,\\space |r|\\leq0.5\\ln2$\n",
    "\n",
    "### $\\underset{Now,\\space we\\space have:}{\\Longrightarrow} e^x = e^{k \\ln2 + r} = e^{k \\ln2}e^{r} = 2^k e^r$"
   ]
  },
  {
   "cell_type": "markdown",
   "metadata": {},
   "source": [
    "### Taylor Series Application 2: Gini Coefficient (Decision Tree)\n",
    "\n",
    "### Explore the relation between Gini Coefficient, Entropy and Classification Error Rate:"
   ]
  },
  {
   "cell_type": "markdown",
   "metadata": {},
   "source": [
    "### Expand $f(x) = -\\ln x$ at x = 1, ignore the  infinitesimal of higher order, we have $f(x)\\approx1-x$"
   ]
  },
  {
   "cell_type": "markdown",
   "metadata": {},
   "source": [
    "### Proof: $f(x) = -\\ln x = 0 + (-1)(x-1) + (-1)^2\\frac{1}{2!}(x-1)^2+...+(-1)^n\\frac{1}{n!}(x-1)^n+R_n(x)\\approx 1-x$ "
   ]
  },
  {
   "cell_type": "markdown",
   "metadata": {},
   "source": [
    "### Entropy: ${H(x)=-\\sum_{k=1}^{N}p_k\\ln p_k}$ "
   ]
  },
  {
   "cell_type": "markdown",
   "metadata": {},
   "source": [
    "### Since $-\\ln x\\approx 1-x \\Rightarrow Entropy:\\space H(x){\\approx} \\sum_{k=1}^{N}p_k (1-p_k)$"
   ]
  },
  {
   "cell_type": "markdown",
   "metadata": {},
   "source": [
    "#### Note 1: Entropy +, Uncertainty +\n",
    "\n",
    "#### Note 2: Entropy > Gini Coefficient > Classification Error Rate"
   ]
  },
  {
   "cell_type": "markdown",
   "metadata": {},
   "source": [
    "### Taylor Series Application 3: Calculate root for a given number $\\sqrt{a}$ (user's input)\n",
    "\n",
    "### Let $f(x) = x^2 -a$, then, we have $f(x)\\space\\bigg|_{x=\\sqrt{a}} = 0$\n",
    "\n",
    "### Since we are looking for $\\sqrt{a}$, now, the question turns into find x where $f(x) = 0$"
   ]
  },
  {
   "cell_type": "markdown",
   "metadata": {},
   "source": [
    "## $\\Rightarrow f(x) = f(x_0)+f'(x_0)(x-x_0)+o(x)$\n",
    "\n",
    "## $\\Rightarrow f(x) \\approx f(x_0) + f'(x_0)(x-x_0)$\n",
    "\n",
    "## $\\Rightarrow x-x_0 = -\\frac{f(x_0)}{f'(x_0)}$\n",
    "\n",
    "## $\\Rightarrow x = x_0 - \\frac{f(x_0)}{f'(x_0)}$"
   ]
  },
  {
   "cell_type": "markdown",
   "metadata": {},
   "source": [
    "## $\\underset{f(x_0)= {x_0}^2-a;\\space \\\\ f'(x_0) = 2x_0}{\\Longrightarrow} x = x_0 - \\frac{{x_0}^2-a}{2x_0}$\n",
    "\n",
    "## $\\Rightarrow x = \\underset{interation\\space formula}{\\underline{\\frac{1}{2}(x_0+\\frac{a}{x_0})}}$\n",
    "\n",
    "## $\\Rightarrow x_i = \\frac{1}{2}(x_{i-1}+\\frac{a}{x_{i-1}})$\n",
    "\n",
    "## Keep looping until $|x_i-x_{i-1}|<<$ some small value;"
   ]
  },
  {
   "cell_type": "code",
   "execution_count": 33,
   "metadata": {},
   "outputs": [],
   "source": [
    "import matplotlib.pyplot as plt\n",
    "%matplotlib inline"
   ]
  },
  {
   "cell_type": "code",
   "execution_count": 41,
   "metadata": {},
   "outputs": [],
   "source": [
    "def Cal(a):\n",
    "    if(a<1e-6): # no negative number for square root\n",
    "        return 0\n",
    "    x = a/2\n",
    "    t = a\n",
    "    count = 0\n",
    "    xi = []\n",
    "    while(abs(x-t)>1e-6):\n",
    "        count += 1\n",
    "        t = x;\n",
    "        x = 0.5*(x+a/x)\n",
    "        xi.append(abs(x-t))\n",
    "    return x,xi,count"
   ]
  },
  {
   "cell_type": "code",
   "execution_count": 42,
   "metadata": {},
   "outputs": [],
   "source": [
    "result,xlist,num_ite = Cal(50)\n",
    "#print('result: %f,\\r\\n# of iterations: %d'%(result,num_ite))"
   ]
  },
  {
   "cell_type": "code",
   "execution_count": 45,
   "metadata": {},
   "outputs": [
    {
     "data": {
      "text/plain": [
       "[<matplotlib.lines.Line2D at 0x11e341ba8>]"
      ]
     },
     "execution_count": 45,
     "metadata": {},
     "output_type": "execute_result"
    },
    {
     "data": {
      "image/png": "[encoded data removed]",
      "text/plain": [
       "<matplotlib.figure.Figure at 0x11e206978>"
      ]
     },
     "metadata": {},
     "output_type": "display_data"
    }
   ],
   "source": [
    "plt.plot(range(0,num_ite),xlist)"
   ]
  },
  {
   "cell_type": "markdown",
   "metadata": {},
   "source": [
    "# 2. Gradient Descent"
   ]
  },
  {
   "cell_type": "markdown",
   "metadata": {},
   "source": [
    "## $J(\\theta)=\\frac{1}{2}\\sum_{i=1}^{m}(h_{\\theta}(x^{(i)})-y^{(i)})^2$\n",
    "\n",
    "### Find $\\theta$, where:\n",
    "\n",
    "## $min_{\\theta}J(\\theta^{*})$"
   ]
  },
  {
   "cell_type": "markdown",
   "metadata": {},
   "source": [
    "### Initialize $\\theta$ randomly;\n",
    "\n",
    "### Iterate along the negative direction, update $\\theta$ to reduce $J(\\theta)$\n",
    "\n",
    "## $\\theta_{j}=\\theta_{j}-\\alpha\\frac{\\partial{J(\\theta)}}{\\partial{\\theta}}$\n",
    "\n",
    "### $\\alpha$: step, learning rate"
   ]
  },
  {
   "cell_type": "markdown",
   "metadata": {},
   "source": [
    "## Newton Method\n",
    "\n",
    "### Given $x_k,\\space f(x_k),\\space f'(x_k),\\space f''(x_k),$ get a second order function to simulate the target function, and find the local minimum of the current function;"
   ]
  },
  {
   "cell_type": "markdown",
   "metadata": {},
   "source": [
    "### If f(x) is twice differentiable, expand f(x) at $x_k$ Taylor expand;"
   ]
  },
  {
   "cell_type": "markdown",
   "metadata": {},
   "source": [
    "### $\\phi(x) =f(x_k) + f'(x_k)(x-x_k)+\\frac{1}{2}f''(x_k)(x-x_k)^2+R_2(x)$\n",
    "\n",
    "### $\\phi(x) \\approx f(x_k) + f'(x_k)(x-x_k)+\\frac{1}{2}f''(x_k)(x-x_k)^2$\n",
    "\n",
    "### $\\phi'(x) = f'(x_k)+f''(x_k)(x-x_k) \\rightarrow$ Find the stationary point;"
   ]
  },
  {
   "cell_type": "markdown",
   "metadata": {},
   "source": [
    "### $\\phi'(x) = f'(x_k) + f''(x_k)(x-x_k) \\underset{let}{=} 0$\n",
    "\n",
    "### $x_{k+1} = x_k - \\frac{f'(x_k)}{f''(x_k)}$"
   ]
  },
  {
   "cell_type": "markdown",
   "metadata": {},
   "source": [
    "### For vectors, use [Hessian Marix](https://en.wikipedia.org/wiki/Hessian_matrix) instead of second derivative;"
   ]
  },
  {
   "cell_type": "code",
   "execution_count": null,
   "metadata": {},
   "outputs": [],
   "source": []
  }
 ],
 "metadata": {
  "kernelspec": {
   "display_name": "Python 3",
   "language": "python",
   "name": "python3"
  },
  "language_info": {
   "codemirror_mode": {
    "name": "ipython",
    "version": 3
   },
   "file_extension": ".py",
   "mimetype": "text/x-python",
   "name": "python",
   "nbconvert_exporter": "python",
   "pygments_lexer": "ipython3",
   "version": "3.6.3"
  }
 },
 "nbformat": 4,
 "nbformat_minor": 2
}
