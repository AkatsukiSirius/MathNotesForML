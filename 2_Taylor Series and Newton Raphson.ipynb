{
 "cells": [
  {
   "cell_type": "markdown",
   "metadata": {},
   "source": [
    "# 0. Introduction\n",
    "\n",
    "## Taylor Series\n",
    "\n",
    "### Calculate function value\n",
    "\n",
    "### Gini Coefficient\n",
    "\n",
    "### Square Root Caculation"
   ]
  },
  {
   "cell_type": "markdown",
   "metadata": {},
   "source": [
    "## Newton Method"
   ]
  },
  {
   "cell_type": "markdown",
   "metadata": {},
   "source": [
    "### Gradient Descent\n",
    "\n",
    "### Newton Raphson\n",
    "\n",
    "- DFP\n",
    "\n",
    "- BFGS"
   ]
  },
  {
   "cell_type": "markdown",
   "metadata": {},
   "source": [
    "# 1. Taylor Series - Maclaurin Formula"
   ]
  },
  {
   "cell_type": "markdown",
   "metadata": {},
   "source": [
    "## Taylor Series\n",
    "\n",
    "## $f(x)=f(x_0)+f'(x_0)(x-x_0)+\\frac{f''(x_0)}{2!}(x-x_0)^2+...+\\frac{f^n(x_0)}{n!}(x-x_0)^n+R_n(x)$"
   ]
  },
  {
   "cell_type": "markdown",
   "metadata": {},
   "source": [
    "## Maclaurin Formula ( $x_0=0$ )\n",
    "\n",
    "## $f(x) = f(0) + f'(0)x+\\frac{f''(0)}{2!}x^2+...+\\frac{f^n(0)}{n!}x^n+o(x^n)$"
   ]
  },
  {
   "cell_type": "markdown",
   "metadata": {},
   "source": [
    "### Example - Maclaurin\n",
    "\n",
    "## $\\sin x = x - \\frac{x^3}{3!}+\\frac{x^5}{5!}+...+(-1)^{m-1}\\frac{x^{2m-1}}{(2m-1)!}+R_{2m}$\n",
    "\n",
    "## $e^x = 1+x+\\frac{x^2}{2!}+...+\\frac{x^n}{n!}+R_{n}$"
   ]
  },
  {
   "cell_type": "markdown",
   "metadata": {},
   "source": [
    "### Taylor Series Application 1: Caculate $e^x$ "
   ]
  },
  {
   "cell_type": "markdown",
   "metadata": {},
   "source": [
    "### sol: Find integer k and decimal r, where\n",
    "\n",
    "### $x = k \\ln2 + r\\space,\\space |r|\\leq0.5\\ln2$\n",
    "\n",
    "### $\\underset{Now,\\space we\\space have:}{\\Longrightarrow} e^x = e^{k \\ln2 + r} = e^{k \\ln2}e^{r} = 2^k e^r$"
   ]
  },
  {
   "cell_type": "markdown",
   "metadata": {},
   "source": [
    "### Taylor Series Application 2: Gini Coefficient (Decision Tree)\n",
    "\n",
    "### Explore the relation between Gini Coefficient, Entropy and Classification Error Rate:"
   ]
  },
  {
   "cell_type": "markdown",
   "metadata": {},
   "source": [
    "### Expand $f(x) = -\\ln x$ at x = 1, ignore the  infinitesimal of higher order, we have $f(x)\\approx1-x$"
   ]
  },
  {
   "cell_type": "markdown",
   "metadata": {},
   "source": [
    "### $f(x) = 0 + (-1)(x-1) + (-1)^2\\frac{1}{2!}(x-1)^2+...+(-1)^n\\frac{1}{n!}(x-1)^n+R_n(x)\\approx 1-x$ \n",
    "\n",
    "### $\\Rightarrow$ $\\underset{Entropy}{\\underline{H(x)=-\\sum\\limits_{k=1}^{N}p_k\\ln p_k}} \\approx \\sum\\limits_{k=1}^{N}p_k (1-p_k)$\n",
    "\n",
    "#### Note 1: Entropy +, Uncertainty +\n",
    "\n",
    "#### Note 2: Entropy > Gini Coefficient > Classification Error Rate"
   ]
  },
  {
   "cell_type": "markdown",
   "metadata": {},
   "source": [
    "### Taylor Series Application 3: Calculate root for a given number $\\sqrt{a}$ (user's input)\n",
    "\n",
    "### Let $f(x) = x^2 -a$, then, we have $f(x)\\space\\bigg|_{x=\\sqrt{a}} = 0$\n",
    "\n",
    "### Since we are looking for $\\sqrt{a}$, now, the question turns into find x where $f(x) = 0$"
   ]
  },
  {
   "cell_type": "markdown",
   "metadata": {},
   "source": [
    "### $\\Rightarrow f(x) = f(x_0)+f'(x_0)(x-x_0)+o(x)$\n",
    "\n",
    "### $\\Rightarrow f(x) \\approx f(x_0) + f'(x_0)(x-x_0)$\n",
    "\n",
    "### $\\Rightarrow x-x_0 = -\\frac{f(x_0)}{f'(x_0)}$\n",
    "\n",
    "### $\\Rightarrow x = x_0 - \\frac{f(x_0)}{f'(x_0)}$"
   ]
  },
  {
   "cell_type": "markdown",
   "metadata": {},
   "source": [
    "## $\\underset{f(x_0)= {x_0}^2-a \\\\ f'(x_0) = 2x_0}{\\Longrightarrow} x = x_0 - \\frac{{x_0}^2-a}{2x_0}$\n",
    "\n",
    "## $\\Rightarrow x = \\underset{interation\\space formula}{\\underline{\\frac{1}{2}(x_0+\\frac{a}{x_0})}}$\n",
    "\n",
    "## $\\Rightarrow x_i = \\frac{1}{2}(x_{i-1}+\\frac{a}{x_{i-1}})$\n",
    "\n",
    "## When $|x_i-x_{i-1}|<<$ some small value;"
   ]
  },
  {
   "cell_type": "code",
   "execution_count": null,
   "metadata": {},
   "outputs": [],
   "source": []
  }
 ],
 "metadata": {
  "kernelspec": {
   "display_name": "Python 3",
   "language": "python",
   "name": "python3"
  },
  "language_info": {
   "codemirror_mode": {
    "name": "ipython",
    "version": 3
   },
   "file_extension": ".py",
   "mimetype": "text/x-python",
   "name": "python",
   "nbconvert_exporter": "python",
   "pygments_lexer": "ipython3",
   "version": "3.6.3"
  }
 },
 "nbformat": 4,
 "nbformat_minor": 2
}
