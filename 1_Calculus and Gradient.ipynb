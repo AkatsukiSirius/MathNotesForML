{
 "cells": [
  {
   "cell_type": "markdown",
   "metadata": {},
   "source": [
    "# 0. Matrix Multiplication \n",
    "\n",
    "### (How it relates to Markov Model? Total Probability Theorem?)\n",
    "\n",
    "## 0.1 e -> How to calcualte?\n",
    "\n",
    "## 0.2 Derivative of some common functions\n",
    "\n",
    "## 0.3 Integration by parts\n",
    "\n",
    "## 0.4 Gradient -> Sharpest direction of increasing/decreasing\n",
    "\n",
    "## 0.5 Convex Function -> Jensen inequality"
   ]
  },
  {
   "cell_type": "markdown",
   "metadata": {},
   "source": [
    "# Example,\n",
    "\n",
    "## solve the following equation via Calculus:\n",
    "\n",
    "## $S = \\frac{1}{0!}+ ... +\\frac{1}{n!}+...$"
   ]
  },
  {
   "cell_type": "markdown",
   "metadata": {},
   "source": [
    "# 1. [Squeeze Theorem](https://en.wikipedia.org/wiki/Squeeze_theorem)"
   ]
  },
  {
   "cell_type": "markdown",
   "metadata": {},
   "source": [
    "## 1.1 Example 1: $\\lim_{x \\rightarrow 0} \\frac{sin x}{x} =1$? \n",
    "    \n",
    "### By unit circle, we have sinx < x < tanx. Divide sinx on all three sides \n",
    "\n",
    "## $\\lim_{x \\rightarrow 0} \\frac{sin x}{x} =1$\n",
    "\n",
    "### Think, how to solve\n",
    "\n",
    "## $\\lim_{x \\rightarrow 0} \\frac{3sin^2x}{2x^2} = ?$  "
   ]
  },
  {
   "cell_type": "markdown",
   "metadata": {},
   "source": [
    "## 1.2 Example 2: Log Funcition, Increasing Rate\n",
    "\n",
    "## $y = log_aX$\n",
    "\n",
    "### Find a to make is the slope equals to 1, when x = 1?"
   ]
  },
  {
   "cell_type": "markdown",
   "metadata": {},
   "source": [
    "### slope: $\\lim_{\\Delta x\\rightarrow 0}\\frac{f(x+\\Delta x) - f(x)}{\\Delta x}$\n",
    "### $= \\lim_{\\Delta x\\rightarrow 0}\\frac{log_a(x+\\Delta x) - log_ax}{\\Delta x} = \\lim_{\\Delta x\\rightarrow 0} \\frac{log_a(\\frac{x+\\Delta x}{x})}{\\Delta x} \n",
    "\\\\ = \\lim_{\\Delta x\\rightarrow 0} log_a(\\frac{x+\\Delta x}{x})^{\\frac{1}{\\Delta x}}$"
   ]
  },
  {
   "cell_type": "markdown",
   "metadata": {},
   "source": [
    "### Since x=1, let  $\\lim_{\\Delta x \\rightarrow 0}log_a(1+\\Delta x)^{\\frac{1}{\\Delta x}} == 1$\n",
    "\n",
    "### $ => log_a[\\lim_{\\Delta x \\rightarrow 0}(1+\\Delta x)^{\\frac{1}{\\Delta x}}] == 1$\n",
    "\n",
    "### $ => \\lim_{\\Delta x \\rightarrow 0}(1+\\Delta x)^{\\frac{1}{\\Delta x}} = a$ \n",
    "\n",
    "### $\\because \\lim_{\\Delta x \\rightarrow 0}\\frac{1}{\\Delta x} = \\infty $, \n",
    "\n",
    "### Let $n = \\frac{1}{\\Delta x},$ so $n\\rightarrow \\infty$\n",
    "\n",
    "### Now, the question is find a, where\n",
    "\n",
    "### $a = \\lim_{n\\rightarrow\\infty}(1+\\frac{1}{n})^n$\n"
   ]
  },
  {
   "cell_type": "code",
   "execution_count": 10,
   "metadata": {},
   "outputs": [
    {
     "data": {
      "image/png": "[encoded data removed]",
      "text/plain": [
       "<matplotlib.figure.Figure at 0x1170d1c18>"
      ]
     },
     "metadata": {},
     "output_type": "display_data"
    }
   ],
   "source": [
    "import math\n",
    "import matplotlib.pyplot as plt\n",
    "import numpy as np\n",
    "%matplotlib inline\n",
    "\n",
    "if __name__ == \"__main__\":\n",
    "    x = np.arange(0.05, 3, 0.05)\n",
    "    y1 = [math.log(a,1.5) for a in x]\n",
    "    plt.plot(x, y1, linewidth=2, color = '#FEE9DB', label = 'log1.5(x)')\n",
    "    plt.plot([1,1],[y1[0],y1[-1]],\"r--\", linewidth = 2)\n",
    "    y2 = [math.log(a,2) for a in x]\n",
    "    plt.plot(x, y2, linewidth = 2, color = '#F596AA', label = 'log2(x)')\n",
    "    y3 = [math.log(a,3) for a in x]\n",
    "    plt.plot(x, y3, linewidth = 2, color = '#DB4D6D', label = 'log3(x)')\n",
    "    plt.legend(loc = 'lower right')\n",
    "    plt.grid(True)\n",
    "    plt.show()\n",
    "    "
   ]
  },
  {
   "cell_type": "markdown",
   "metadata": {},
   "source": [
    "# 1.3 Now, solve: $\\lim\\limits_{n\\to \\infty}(1+\\frac{1}{n})^n = ?\\text{ relation with e?}$\n",
    "\n",
    "### 1) Monotonic increasing function with bounds must have limits;\n",
    "    \n",
    "### 2) Binomial theorem (Newton);\n",
    "    \n",
    "### 3) Geometric sequence; $\\space Note:\\space n\\rightarrow\\infty,\\space 2^n<n!$"
   ]
  },
  {
   "cell_type": "markdown",
   "metadata": {},
   "source": [
    "### i) prove $x_n$ is bounded"
   ]
  },
  {
   "cell_type": "markdown",
   "metadata": {},
   "source": [
    "### $x_n = (1+\\frac{1}{n})^n,\\space by\\space Binomial\\space Theorem ... (2)$\n",
    "\n",
    "### $= 1 + C^{1}_{n}\\frac{1}{n}+C^{2}_{n}\\frac{1}{n^2}+...+C^{n}_{n}\\frac{1}{n^n} $\n",
    "\n",
    "### $= 1 + \\frac{1}{1!}n\\frac{1}{n} + \\frac{1}{2!}n(n-1)\\frac{1}{n} + ... + \\frac{1}{n!}[n(n-1)(n-2)...1]\\frac{1}{n^n}$"
   ]
  },
  {
   "cell_type": "markdown",
   "metadata": {},
   "source": [
    "### ii) Prove $x_n$ is Monotonic increasing"
   ]
  },
  {
   "cell_type": "markdown",
   "metadata": {},
   "source": [
    "### $x_{n+1} = (1+\\frac{1}{n+1})^{n+1}$\n",
    "\n",
    "### $\n",
    "= 1 + 1 + \\frac{1}{2!}(1-\\frac{1}{n+1}) +...+\\frac{1}{n!}(1-\\frac{1}{n})(1-\\frac{2}{n})...(1-\\frac{n-1}{n})+C^{n+1}_{n+1}\\frac{1}{(n+1)^(n+1)}$\n",
    "\n",
    "### $\\Rightarrow x_{n+1}>x_{n}$"
   ]
  },
  {
   "cell_type": "markdown",
   "metadata": {},
   "source": [
    "### $ = 1+ 1 +\\frac{1}{2!}(1-\\frac{1}{n})+\\frac{1}{3!}(1-\\frac{1}{n})(1-\\frac{2}{n}) +...+\\frac{1}{n!}(1-\\frac{1}{n})(1-\\frac{2}{n})...(1-\\frac{n-1}{n})$\n",
    "\n",
    "### $\\Rightarrow x_n > 2 $\n",
    "\n",
    "### $Since\\space (1-\\frac{1}{n}) < 1, (1-\\frac{1}{n})(1-\\frac{2}{n}) < 1,\\space etc$\n",
    "\n",
    "### $\\Rightarrow x_n = (1+\\frac{1}{n})^n < 1 + 1 + \\frac{1}{2!} +\\frac{1}{3!} +...+ \\frac{1}{n!}$\n",
    "\n",
    "### $\\space since,\\space n \\rightarrow \\infty,\\space n! > 2^n$\n",
    "\n",
    "### $\\Rightarrow x_n < 1 + 1 + \\frac{1}{2} + \\frac{1}{2^2} + ... + \\frac{1}{2^{n-1}}, \\space by\\space Geometric \\space sequence ... (3)$\n",
    "\n",
    "### $= 3 - \\frac{1}{2^{n-1}} < 3 \\space, via\\space (1) => x_n \\space is \\space bounded$"
   ]
  },
  {
   "cell_type": "markdown",
   "metadata": {},
   "source": [
    "### $\\underset{\\text{by i),ii)}}{\\Longrightarrow}\\text{let } \\lim_{n\\to\\infty} x_n = (1+\\frac{1}{n})^n = e,\\space where\\space 2\\leq e\\leq 3,\\space for\\space n\\in N$ "
   ]
  },
  {
   "cell_type": "markdown",
   "metadata": {},
   "source": [
    "## 1.4 Mathematical Constant $e =\\sum_{n=0}^{\\infty}\\frac{1}{n!}$ "
   ]
  },
  {
   "cell_type": "markdown",
   "metadata": {},
   "source": [
    "## $\\forall x \\in R, \\exists n \\in N,\\text{ where } n\\leq x\\leq n+1$\n",
    "\n",
    "### \\begin{equation}\n",
    "\\text{so, we have: } (1+\\frac{1}{n+1})^n < (1+\\frac{1}{x})^x < (1+\\frac{1}{n})^{n+1}\n",
    "\\end{equation}"
   ]
  },
  {
   "cell_type": "markdown",
   "metadata": {},
   "source": [
    "### $\n",
    "\\text{1) For left side: } (1+\\frac{1}{n+1})^n \\\\\n",
    "= \\lim_{n\\to\\infty}(1+\\frac{1}{n+1})^n = \\lim_{n\\to\\infty}\\frac{(1+\\frac{1}{n+1})^{n+1}}{1+\\frac{1}{n+1}}\\\\\n",
    "= \\frac{\\lim_{n\\to\\infty}(1+\\frac{1}{n+1})^{n+1}}{\\lim_{n\\to\\infty}(1+\\frac{1}{n+1})} = \\frac{e}{1+0} = e\n",
    "$"
   ]
  },
  {
   "cell_type": "markdown",
   "metadata": {},
   "source": [
    "### $\n",
    "\\text{ 2) For Right side: } (1+\\frac{1}{n})^{n+1} \\\\\n",
    "\\lim_{n\\to\\infty}[(1+\\frac{1}{n})^n(1+\\frac{1}{n})]=\\lim_{n\\to\\infty}(1+\\frac{1}{n})^n\\lim_{n\\to\\infty}(1+\\frac{1}{n}) = e(1+0) = e\n",
    "$"
   ]
  },
  {
   "cell_type": "markdown",
   "metadata": {},
   "source": [
    "### From 1), 2) and Squeeze theorem\n",
    "\n",
    "## $\\Rightarrow \\lim_{x\\to\\infty} f(x) = \\lim_{x\\to\\infty} (1+\\frac{1}{x})^x = e$"
   ]
  },
  {
   "cell_type": "markdown",
   "metadata": {},
   "source": [
    "# 2. Derivative"
   ]
  },
  {
   "cell_type": "markdown",
   "metadata": {},
   "source": [
    "### Secondary Derivative -> Convex;"
   ]
  },
  {
   "cell_type": "markdown",
   "metadata": {},
   "source": [
    "## 2.1 Proof: $ln(x)' = \\frac{1}{x}$"
   ]
  },
  {
   "cell_type": "markdown",
   "metadata": {},
   "source": [
    "### 1) Definition of Derivative\n",
    "\n",
    "### 2) Squeez Theorem -> $\\lim_{x\\to\\infty} (1+\\frac{1}{x})^x = e$\n",
    "\n",
    "### 3) $ln(a) - ln(b) = ln(\\frac{a}{b})$\n",
    "\n",
    "### 4) $ a\\space ln\\space b = ln(b^a)$"
   ]
  },
  {
   "cell_type": "markdown",
   "metadata": {},
   "source": [
    "### $\n",
    "\\frac{\\partial}{\\partial x}[ln\\space x] = \\lim_{\\Delta x\\to 0} \\frac{ln(x+\\Delta x) - ln x}{\\Delta x}\\\\\n",
    "= \\lim_{\\Delta x \\to 0} \\frac{ln(\\frac{x+\\Delta x}{x})}{\\Delta x} = \\lim_{\\Delta x \\to 0} ln[(1+\\frac{\\Delta x}{x})^{\\frac{1}{\\Delta x}}] \\\\\n",
    "\\text{let n } = \\frac{\\Delta x}{x}; \\Delta x = nx;\\frac{1}{\\Delta} = \\frac{n}{x} = \\frac{1}{n}\\frac{1}{x}\\\\\n",
    "\\text{as } \\Delta x \\rightarrow 0, n \\rightarrow 0 \\\\\n",
    "= \\lim_{n\\rightarrow 0} ln[(1+n)^{\\frac{1}{n}\\frac{1}{x}}] = \\frac{1}{x}\\lim_{n\\rightarrow 0} ln[(1+n)^{\\frac{1}{n}}]= \\frac{1}{x}ln[\\lim_{n\\rightarrow 0}(1+n)^{\\frac{1}{n}}]\\\\\n",
    "= \\frac{1}{x}ln[e]\n",
    "$"
   ]
  },
  {
   "cell_type": "markdown",
   "metadata": {},
   "source": [
    "## 2.2 Integration by parts, proved via (uv)' = u'v + uv'"
   ]
  },
  {
   "cell_type": "markdown",
   "metadata": {},
   "source": [
    "## $\n",
    "\\frac{d(uv)}{dx} = v\\frac{du}{dx} + u \\frac{v}{x} \\\\\n",
    "\\Rightarrow u.v = \\int_x vdu + \\int_x u dv \\\\\n",
    "\\Rightarrow \\int_x udv = u.v - \\int_x v du\n",
    "$"
   ]
  },
  {
   "cell_type": "markdown",
   "metadata": {},
   "source": [
    "## 2.3 Example: $\\int ln x\\space dx = ?$"
   ]
  },
  {
   "cell_type": "markdown",
   "metadata": {},
   "source": [
    "## $\n",
    "\\int ln\\space xdx = xlnx - \\int xd\\space lnx = xlnx - \\int x\\frac{1}{x}dx = xlnx-x\n",
    "$"
   ]
  },
  {
   "cell_type": "markdown",
   "metadata": {},
   "source": [
    "# 3. Application of Calculus"
   ]
  },
  {
   "cell_type": "markdown",
   "metadata": {},
   "source": [
    "## 3.1 $f(x) = x^x\\text{, x > 0, how to find the minimal of f(x)? => take log} $\n",
    "\n",
    "### power-exponential function;\n",
    "\n",
    "### Used in Entropy;"
   ]
  },
  {
   "cell_type": "markdown",
   "metadata": {},
   "source": [
    "## 3.2  $N^{\\frac{1}{log N}}  = ?$\n",
    "\n",
    "### Used in skip list, a dynamic data structure, which supports insert, delete, update, retrieve; (balanced binary tree, red black tree)\n",
    "    \n",
    "## $\\text{let t = } N^{\\frac{1}{log N}}\\text{, take log on both sides;}$"
   ]
  },
  {
   "cell_type": "markdown",
   "metadata": {},
   "source": [
    "### proof 3.1:\n",
    "\n",
    "### 1) Take log on both sides;\n",
    "\n",
    "### 2) Take derivative on both sides;\n",
    "\n",
    "### 3) Find stationary point;"
   ]
  },
  {
   "cell_type": "markdown",
   "metadata": {},
   "source": [
    "### $t(x)=x^x$\n",
    "\n",
    "### take log on both sides\n",
    "\n",
    "### $\\Rightarrow \\ln t = x\\ln x$\n",
    "\n",
    "### take derivative respect to x on both sides\n",
    "\n",
    "### $\\Rightarrow \\frac{1}{t}t' = \\ln x + 1$"
   ]
  },
  {
   "cell_type": "markdown",
   "metadata": {},
   "source": [
    "### now find the stationary point (point where derivative equals to 0)\n",
    "\n",
    "### $\\overset{let\\space t' = 0}{\\longrightarrow} \\ln x + 1 = 0$\n",
    "\n",
    "### $\\Rightarrow x = e^{-1}$\n",
    "\n",
    "### $\\because t(x) = x^x$\n",
    "\n",
    "### $\\Rightarrow t = e^{-\\frac{1}{e}}$"
   ]
  },
  {
   "cell_type": "markdown",
   "metadata": {},
   "source": [
    "## 3.3 Application of Integral: $N \\rightarrow \\infty \\Rightarrow \\ln N! \\Rightarrow N(\\ln N - 1)$ \n",
    "\n",
    "## $\\lim_{N\\rightarrow\\infty}N!=?$\n",
    "\n",
    "### 1) Property of log funtion: $+/-\\rightarrow\\times/\\div$;\n",
    "\n",
    "### 2) Definition of integration;\n",
    "\n",
    "### 3) Integration by parts;"
   ]
  },
  {
   "cell_type": "markdown",
   "metadata": {},
   "source": [
    "### $\\ln N! = \\sum^{N}_{i} \\ln i \\approx \\int^{N}_{1}\\ln x dx$\n",
    "\n",
    "### $= x\\ln x\\space\\bigg|^{N}_{1} - \\int^{N}_{1}x d\\ln x $\n",
    "\n",
    "### $= N\\ln N - \\int^{N}_{1}x\\frac{1}{x}dx$\n",
    "\n",
    "### $= N\\ln N - x\\bigg|^{N}_{1}$\n",
    "\n",
    "### $= N \\ln N - N + 1$\n",
    "\n",
    "### $\\approx N\\ln N - N$"
   ]
  },
  {
   "cell_type": "markdown",
   "metadata": {},
   "source": [
    "# 3. Directional Derivative"
   ]
  },
  {
   "cell_type": "markdown",
   "metadata": {},
   "source": [
    "### If function z = f(x,y) is differentiable at point P(x,y), then, there exists directional derivative functions for all the direction starting from that point P(x,y), and there exists:"
   ]
  },
  {
   "cell_type": "markdown",
   "metadata": {},
   "source": [
    "## $\\frac{\\partial f}{\\partial l} = \\frac{\\partial f}{\\partial x}cos\\phi+\\frac{\\partial f}{\\partial y}sin\\phi$\n",
    "## $\\Leftrightarrow\n",
    "\\frac{\\partial f}{\\partial l} = \n",
    "\\begin{bmatrix}\n",
    "\\frac{\\partial f}{\\partial x}, \\frac{\\partial f}{\\partial y}\n",
    "\\end{bmatrix}\n",
    "\\underset{direction\\space of\\space L}{\\begin{bmatrix}\n",
    "cos \\phi\\\\sin \\phi\n",
    "\\end{bmatrix}}\n",
    "$\n",
    "\n",
    "## Note: $\\phi$ is the angle points from x to directional derivative function, L"
   ]
  },
  {
   "cell_type": "markdown",
   "metadata": {},
   "source": [
    "## Now, think: \n",
    "\n",
    "### 1) What is the maximum value of directional derivative function ?\n",
    "\n",
    "### 2) What is the direction when getting the maximal ?\n",
    "\n",
    "# $\\rightarrow cos\\phi = \\frac{\\partial f}{\\partial x}, sin\\phi = \\frac{\\partial f}{\\partial y}$\n",
    "\n",
    "## This is the definition of Gradient: $\\nabla f,$ or grad f(x,y);"
   ]
  },
  {
   "cell_type": "markdown",
   "metadata": {},
   "source": [
    "### What is the speed along a direction in general case?"
   ]
  },
  {
   "cell_type": "markdown",
   "metadata": {},
   "source": [
    "## $\\rightarrow \\frac{\\partial f}{\\partial l} = \\frac{\\partial f}{\\partial x}cos\\phi+\\frac{\\partial f}{\\partial y}sin\\phi$"
   ]
  },
  {
   "cell_type": "markdown",
   "metadata": {},
   "source": [
    "# 4. Convex Function (e.g: $x^2$)"
   ]
  },
  {
   "cell_type": "markdown",
   "metadata": {},
   "source": [
    "## Secant line is always above the function line;\n",
    "\n",
    "### $\\exists a\\space \\space convex\\space domain\\space f,\\space \\forall x,y \\in dom\\space f, 0\\leq\\theta\\leq1, \\exists$\n",
    "\n",
    "### $f(\\theta x +(1-\\theta)y) \\leq \\theta f(x) + (1-\\theta)f(y)$"
   ]
  },
  {
   "cell_type": "markdown",
   "metadata": {},
   "source": [
    "## The tagent line at any point is always below the function line;\n",
    "\n",
    "### If function f is first order differentialble, then, f is convex function, if and only if the domain of f is a convex set and \n",
    "\n",
    "### Function of tagent line at (x,y): $f(x,y)+\\nabla f(x)^T(y-x)$\n",
    "\n",
    "### $f(y)\\geq f(x,y)+\\nabla f(x)^T(y-x)$"
   ]
  },
  {
   "cell_type": "markdown",
   "metadata": {},
   "source": [
    "### Conclusions:\n",
    "\n",
    "### 1) For convex function, the first order Taylor series is the global infimum of the function;\n",
    "\n",
    "### 2) If the first order Taylor series is always the global infimum of the function, then, this is a convex function;\n",
    "\n",
    "## 1), 2) $\\Rightarrow$ Support Vector Machine\n",
    "\n",
    "### From the local information of a function, we can get some global information."
   ]
  },
  {
   "cell_type": "markdown",
   "metadata": {},
   "source": [
    "## Twice Differentiable Function"
   ]
  },
  {
   "cell_type": "markdown",
   "metadata": {},
   "source": [
    "### For twice differentiable function f, it is a convex function if and only if dom(f) is a convex set, and\n",
    "\n",
    "## $\\nabla ^2f(x)\\geq0$"
   ]
  },
  {
   "cell_type": "markdown",
   "metadata": {},
   "source": [
    "### 1) When f is a one-variable function -> Second order derivative large or equal to zero;\n",
    "\n",
    "### 2) When f is multi-variable function -> [Hessian matrix](https://en.wikipedia.org/wiki/Hessian_matrix) is semi positive;\n",
    " \n"
   ]
  },
  {
   "cell_type": "markdown",
   "metadata": {},
   "source": [
    "# 5. Jensen Inequation via Convex"
   ]
  },
  {
   "cell_type": "markdown",
   "metadata": {},
   "source": [
    "## Basic Jensen Inquation\n",
    "\n",
    "## $f(\\theta +(1-\\theta)y) \\leq \\theta f(x) + (1-\\theta)f(y)$\n",
    "\n",
    "## General Case\n",
    "\n",
    "## $\\forall \\theta_1,\\theta_2,...,\\theta_k \\geq 0, \\theta_1 + \\theta_2 +...+\\theta_k = 1$\n",
    "\n",
    "## $f(\\theta_1x_1 +...+\\theta_kx_k)\\leq\\theta_1f(x_1)+...+\\theta_kf(x_k)$"
   ]
  },
  {
   "cell_type": "markdown",
   "metadata": {},
   "source": [
    "## Probability (Treat $\\theta$ as probability distribution)\n",
    "\n",
    "## $p(x)\\geq 0 \\space on \\space S \\subseteq dom\\space f,\\int_S p(x) dx = 1$\n",
    "\n",
    "## $\\text{Then, we have } f(\\int_S p(x)xdx)\\leq\\int_Sf(x)p(x)dx$\n",
    "\n",
    "## $f(Ex)\\leq Ef(x)$"
   ]
  },
  {
   "cell_type": "markdown",
   "metadata": {},
   "source": [
    "## Example 1. Use y = -log x, prove:\n",
    "\n",
    "## $\\frac{a+b}{2}\\geq\\sqrt{ab}, a>0, b>0$\n",
    "\n",
    "### Hint: $\\forall a,b > 0, \\theta = 0.5, \\text{plug in Jenson Inequation;}$"
   ]
  },
  {
   "cell_type": "markdown",
   "metadata": {},
   "source": [
    "### Proof:\n",
    "\n",
    "### $\\forall a,b >0, \\text{we have, }-[0.5log(a)+0.5log(b)]\\geq -log(0.5a+0.5b)$\n",
    "\n",
    "### $\\Rightarrow log(a+b)^{\\frac{1}{2}}\\leq log(\\frac{a+b}{2})$\n",
    "\n",
    "### $\\Rightarrow log(\\sqrt{ab})\\leq log(\\frac{a+b}{2})$\n",
    "\n",
    "## $\\text{Since log x is a mononic increasing function }\\Rightarrow \\frac{a+b}{2} \\geq \\sqrt{ab}$"
   ]
  },
  {
   "cell_type": "markdown",
   "metadata": {},
   "source": [
    "## Example 2. Utilize $f(E(x))\\leq E(f(x)),$ f is a convex function, prove D$\\geq$0"
   ]
  },
  {
   "cell_type": "markdown",
   "metadata": {},
   "source": [
    "## $D(p||q)=\\sum_x p(x)log\\frac{p(x)}{q(x)} = E_{p(x)}(log\\frac{p(x)}{q(x)})$\n",
    "\n",
    "### Hint: Relative Entropy"
   ]
  },
  {
   "cell_type": "markdown",
   "metadata": {},
   "source": [
    "## Prove:\n",
    "\n",
    "### $D=E_{p(x)}(log\\frac{p(x)}{q(x)}) = E_{p(x)}(-log\\frac{q(x)}{p(x)})$\n",
    "\n",
    "### $\\underset{f(E(x)\\leq Ef(x))}{\\Longrightarrow} D= E_{p(x)}(-log\\frac{q(x)}{p(x)}) \\geq -log(E_{p(x)}(\\frac{q(x)}{p(x)}))$\n",
    "\n",
    "### $= -log(\\sum_{x}p(x)\\frac{q(x)}{p(x)}) = -log(\\sum_{x}q(x)) = -log(1) = 0$"
   ]
  },
  {
   "cell_type": "code",
   "execution_count": null,
   "metadata": {},
   "outputs": [],
   "source": []
  }
 ],
 "metadata": {
  "kernelspec": {
   "display_name": "Python 3",
   "language": "python",
   "name": "python3"
  },
  "language_info": {
   "codemirror_mode": {
    "name": "ipython",
    "version": 3
   },
   "file_extension": ".py",
   "mimetype": "text/x-python",
   "name": "python",
   "nbconvert_exporter": "python",
   "pygments_lexer": "ipython3",
   "version": "3.6.3"
  }
 },
 "nbformat": 4,
 "nbformat_minor": 2
}
